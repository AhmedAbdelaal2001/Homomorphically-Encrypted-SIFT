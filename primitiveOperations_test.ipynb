{
 "cells": [
  {
   "cell_type": "code",
   "execution_count": 1,
   "metadata": {},
   "outputs": [],
   "source": [
    "from utils_encryptedDomain.homomorphic_operations import *"
   ]
  },
  {
   "cell_type": "code",
   "execution_count": 2,
   "metadata": {},
   "outputs": [],
   "source": [
    "plaintext1 = np.array([[1, 2, 3], [-4, -5, -6], [7, 8, 9]], dtype=np.int64)\n",
    "plaintext2 = np.array([[10, 11, 12], [13, 14, 15], [-16, -17, -18]], dtype=np.int64)"
   ]
  },
  {
   "cell_type": "code",
   "execution_count": 3,
   "metadata": {},
   "outputs": [],
   "source": [
    "ciphertext1 = encryptImage(plaintext1)\n",
    "ciphertext2 = encryptImage(plaintext2)"
   ]
  },
  {
   "cell_type": "code",
   "execution_count": 4,
   "metadata": {},
   "outputs": [],
   "source": [
    "decipheredtext1 = decryptImage(ciphertext1)\n",
    "decipheredtext2 = decryptImage(ciphertext2)"
   ]
  },
  {
   "cell_type": "code",
   "execution_count": 5,
   "metadata": {},
   "outputs": [],
   "source": [
    "sum = tensor_homomorphicAddition(ciphertext1, ciphertext2)"
   ]
  },
  {
   "cell_type": "code",
   "execution_count": 6,
   "metadata": {},
   "outputs": [],
   "source": [
    "product1 = tensor_homomorphicScalarMultiplication(ciphertext1, encodeImage(np.array([[1, 2, 3], [4, 5, 6], [7, 8, 9]], dtype=np.int64)))\n",
    "product2 = tensor_homomorphicScalarMultiplication(ciphertext2, encodeImage(np.array([[1, 2, 3], [4, 5, 6], [7, 8, 9]], dtype=np.int64)))"
   ]
  },
  {
   "cell_type": "code",
   "execution_count": 7,
   "metadata": {},
   "outputs": [],
   "source": [
    "difference1 = tensor_homomorphicSubtraction(ciphertext1, ciphertext2)\n",
    "difference2 = tensor_homomorphicSubtraction(ciphertext2, ciphertext1)"
   ]
  },
  {
   "cell_type": "code",
   "execution_count": 10,
   "metadata": {},
   "outputs": [
    {
     "data": {
      "text/plain": [
       "array([[  9,   9,   9],\n",
       "       [ 17,  19,  21],\n",
       "       [-23, -25, -27]], dtype=int64)"
      ]
     },
     "execution_count": 10,
     "metadata": {},
     "output_type": "execute_result"
    }
   ],
   "source": [
    "decryptImage(difference2)"
   ]
  }
 ],
 "metadata": {
  "kernelspec": {
   "display_name": "base",
   "language": "python",
   "name": "python3"
  },
  "language_info": {
   "codemirror_mode": {
    "name": "ipython",
    "version": 3
   },
   "file_extension": ".py",
   "mimetype": "text/x-python",
   "name": "python",
   "nbconvert_exporter": "python",
   "pygments_lexer": "ipython3",
   "version": "3.10.9"
  }
 },
 "nbformat": 4,
 "nbformat_minor": 2
}
